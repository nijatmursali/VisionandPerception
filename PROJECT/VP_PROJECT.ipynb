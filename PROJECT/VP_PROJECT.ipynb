{
  "nbformat": 4,
  "nbformat_minor": 0,
  "metadata": {
    "colab": {
      "name": "VP-MAIN.ipynb",
      "provenance": [],
      "collapsed_sections": []
    },
    "kernelspec": {
      "name": "python3",
      "display_name": "Python 3"
    },
    "accelerator": "TPU"
  },
  "cells": [
    {
      "cell_type": "markdown",
      "metadata": {
        "id": "Iqd3CC5WRYuO",
        "colab_type": "text"
      },
      "source": [
        "# Import libraries"
      ]
    },
    {
      "cell_type": "code",
      "metadata": {
        "id": "HMo9wr0kP7uz",
        "colab_type": "code",
        "colab": {
          "base_uri": "https://localhost:8080/",
          "height": 35
        },
        "outputId": "1f6808b7-1523-4197-c0e3-65de2dffc932"
      },
      "source": [
        "# others \n",
        "import os, sys\n",
        "import pandas as pd\n",
        "import numpy as np\n",
        "from numpy import expand_dims\n",
        "import matplotlib.pyplot as plt\n",
        "import tensorflow as tf\n",
        "from PIL import Image\n",
        "from google.colab import drive\n",
        "\n",
        "#keras \n",
        "import keras\n",
        "from keras.preprocessing.image import ImageDataGenerator, load_img, img_to_array\n",
        "from keras.models import Sequential, Model, Input, load_model\n",
        "from keras import layers, regularizers, callbacks, optimizers, applications\n",
        "from keras.layers import Dense, Activation, Dropout, Flatten, Conv2D, MaxPooling2D, GlobalAveragePooling2D\n",
        "from keras.layers.normalization import BatchNormalization\n",
        "from keras.regularizers import l2\n",
        "from keras.callbacks import LearningRateScheduler, EarlyStopping\n",
        "\n"
      ],
      "execution_count": 1,
      "outputs": [
        {
          "output_type": "stream",
          "text": [
            "Using TensorFlow backend.\n"
          ],
          "name": "stderr"
        }
      ]
    },
    {
      "cell_type": "markdown",
      "metadata": {
        "id": "RFUcXIu2TjYQ",
        "colab_type": "text"
      },
      "source": [
        "# Connect to Drive"
      ]
    },
    {
      "cell_type": "code",
      "metadata": {
        "id": "rz-EApilRM-8",
        "colab_type": "code",
        "colab": {
          "base_uri": "https://localhost:8080/",
          "height": 127
        },
        "outputId": "e1606901-487c-4e42-b1f2-c31ec7c9ff81"
      },
      "source": [
        "drive.mount('/content/drive')"
      ],
      "execution_count": 2,
      "outputs": [
        {
          "output_type": "stream",
          "text": [
            "Go to this URL in a browser: https://accounts.google.com/o/oauth2/auth?client_id=947318989803-6bn6qk8qdgf4n4g3pfee6491hc0brc4i.apps.googleusercontent.com&redirect_uri=urn%3aietf%3awg%3aoauth%3a2.0%3aoob&response_type=code&scope=email%20https%3a%2f%2fwww.googleapis.com%2fauth%2fdocs.test%20https%3a%2f%2fwww.googleapis.com%2fauth%2fdrive%20https%3a%2f%2fwww.googleapis.com%2fauth%2fdrive.photos.readonly%20https%3a%2f%2fwww.googleapis.com%2fauth%2fpeopleapi.readonly\n",
            "\n",
            "Enter your authorization code:\n",
            "··········\n",
            "Mounted at /content/drive\n"
          ],
          "name": "stdout"
        }
      ]
    },
    {
      "cell_type": "markdown",
      "metadata": {
        "id": "ir3QLglzUexc",
        "colab_type": "text"
      },
      "source": [
        "# Read dataset from Drive & Colab Notebook"
      ]
    },
    {
      "cell_type": "code",
      "metadata": {
        "id": "6UAJiIZwUlFU",
        "colab_type": "code",
        "colab": {}
      },
      "source": [
        "dataset_train = '/content/drive/My Drive/Colab Notebooks/dataset/train'\n",
        "dataset_test = '/content/drive/My Drive/Colab Notebooks/dataset/test'"
      ],
      "execution_count": 3,
      "outputs": []
    },
    {
      "cell_type": "markdown",
      "metadata": {
        "id": "1lrO6Vj5JoIH",
        "colab_type": "text"
      },
      "source": [
        "# Generate batches for the images"
      ]
    },
    {
      "cell_type": "code",
      "metadata": {
        "id": "fA8CCpRKrevB",
        "colab_type": "code",
        "colab": {}
      },
      "source": [
        "train_datagen = ImageDataGenerator(\n",
        "                                    rescale = 1. / 255,\\\n",
        "                                    zoom_range=0.1,\\\n",
        "                                    rotation_range=10,\\\n",
        "                                    width_shift_range=0.1,\\\n",
        "                                    height_shift_range=0.1,\\\n",
        "                                    horizontal_flip=True,\\\n",
        "                                    vertical_flip=False\n",
        "                                   )\n",
        "\n",
        "test_datagen = ImageDataGenerator(rescale = 1. / 255)"
      ],
      "execution_count": 4,
      "outputs": []
    },
    {
      "cell_type": "code",
      "metadata": {
        "id": "S-noqwggr12T",
        "colab_type": "code",
        "colab": {
          "base_uri": "https://localhost:8080/",
          "height": 71
        },
        "outputId": "c9465b9c-bf2d-4949-8e93-cf3fecd16b79"
      },
      "source": [
        "train_generator = train_datagen.flow_from_directory(\n",
        "    directory=dataset_train, \n",
        "    target_size=(100, 100), #we needed to standarize the images for training\n",
        "    batch_size=64,\n",
        "    class_mode='categorical',\n",
        "    shuffle=True,\n",
        "    )\n",
        "\n",
        "test_generator = test_datagen.flow_from_directory(\n",
        "    directory=dataset_test, # we go to train directory \n",
        "    target_size=(100, 100), # and resize the images 256 by 256\n",
        "    batch_size=64, # we are feeding images by batch size of 64\n",
        "    class_mode='categorical'\n",
        "    )\n",
        "\n",
        "classnames = [k for k,v in train_generator.class_indices.items()]\n",
        "print(\"Classes are: %r\" %classnames)"
      ],
      "execution_count": 5,
      "outputs": [
        {
          "output_type": "stream",
          "text": [
            "Found 3733 images belonging to 5 classes.\n",
            "Found 669 images belonging to 5 classes.\n",
            "Classes are: ['daisy', 'dandelion', 'rose', 'sunflower', 'tulip']\n"
          ],
          "name": "stdout"
        }
      ]
    },
    {
      "cell_type": "code",
      "metadata": {
        "id": "DlBhZW1S2kf6",
        "colab_type": "code",
        "colab": {
          "base_uri": "https://localhost:8080/",
          "height": 269
        },
        "outputId": "5d35bf5a-bcfe-4503-fc8c-108a66b559fb"
      },
      "source": [
        "img = load_img('/content/drive/My Drive/Colab Notebooks/dataset/test/daisy/100080576_f52e8ee070_n.jpg')\n",
        "# convert to numpy array\n",
        "data = img_to_array(img)\n",
        "# expand dimension to one sample\n",
        "samples = expand_dims(data, 0)\n",
        "# create image data augmentation generator\n",
        "datagen = test_datagen\n",
        "# prepare iterator\n",
        "it = datagen.flow(samples, batch_size=1)\n",
        "# generate samples and plot\n",
        "for i in range(9):\n",
        "\t# define subplot\n",
        "\tplt.subplot(330 + 1 + i)\n",
        "\t# generate batch of images\n",
        "\tbatch = it.next()\n",
        "\t# convert to unsigned integers for viewing\n",
        "\timage = batch[0].astype('uint8')\n",
        "\t# plot raw pixel data\n",
        "\tplt.imshow(image)\n",
        "# show the figure\n",
        "plt.show()"
      ],
      "execution_count": 6,
      "outputs": [
        {
          "output_type": "display_data",
          "data": {
            "image/png": "[encoded data removed]",
            "text/plain": [
              "<Figure size 432x288 with 9 Axes>"
            ]
          },
          "metadata": {
            "tags": [],
            "needs_background": "light"
          }
        }
      ]
    },
    {
      "cell_type": "code",
      "metadata": {
        "id": "ZMhDc8HHt8yr",
        "colab_type": "code",
        "colab": {}
      },
      "source": [
        "# CNN \n",
        "model = Sequential()\n",
        "\n",
        "model.add(Conv2D(filters=32, activation='relu', kernel_size=(5,5), input_shape=(100, 100, 3))) \n",
        "model.add(MaxPooling2D(pool_size=(2, 2))) #after max pooling we will have 127x127x3\n",
        "\n",
        "model.add(Conv2D(filters=64, activation='relu', kernel_size=(3,3)))\n",
        "model.add(MaxPooling2D(pool_size=(2,2))) #after max pooling we will have 62x62x3\n",
        "\n",
        "model.add(Conv2D(filters=128, activation='relu', kernel_size=(3,3)))\n",
        "model.add(MaxPooling2D(pool_size=(2, 2))) #after max pooling we will have 30x30x3\n",
        "\n",
        "model.add(Flatten())\n",
        "#model.add(GlobalAveragePooling2D())\n",
        "\n",
        "model.add(Dense(units=128, activation='relu')) #, kernel_regularizer=l2(0.001)\n",
        "model.add(Dropout(rate=0.5))\n",
        "\n",
        "model.add(Dense(units=96, activation='relu'))\n",
        "model.add(Dropout(rate=0.5)) #it is not good to use dropout before output \n",
        "\n",
        "model.add(Dense(units=5, activation='softmax'))\n",
        "#loss is negative - the solution is to use Dense(n_classes, activation='softmax')\n",
        "\n"
      ],
      "execution_count": 7,
      "outputs": []
    },
    {
      "cell_type": "code",
      "metadata": {
        "id": "aF2-gu6J1E5-",
        "colab_type": "code",
        "colab": {
          "base_uri": "https://localhost:8080/",
          "height": 593
        },
        "outputId": "fc20b28c-f69d-457e-b958-8b2965628f5d"
      },
      "source": [
        "model.summary()"
      ],
      "execution_count": 8,
      "outputs": [
        {
          "output_type": "stream",
          "text": [
            "Model: \"sequential_1\"\n",
            "_________________________________________________________________\n",
            "Layer (type)                 Output Shape              Param #   \n",
            "=================================================================\n",
            "conv2d_1 (Conv2D)            (None, 96, 96, 32)        2432      \n",
            "_________________________________________________________________\n",
            "max_pooling2d_1 (MaxPooling2 (None, 48, 48, 32)        0         \n",
            "_________________________________________________________________\n",
            "conv2d_2 (Conv2D)            (None, 46, 46, 64)        18496     \n",
            "_________________________________________________________________\n",
            "max_pooling2d_2 (MaxPooling2 (None, 23, 23, 64)        0         \n",
            "_________________________________________________________________\n",
            "conv2d_3 (Conv2D)            (None, 21, 21, 128)       73856     \n",
            "_________________________________________________________________\n",
            "max_pooling2d_3 (MaxPooling2 (None, 10, 10, 128)       0         \n",
            "_________________________________________________________________\n",
            "flatten_1 (Flatten)          (None, 12800)             0         \n",
            "_________________________________________________________________\n",
            "dense_1 (Dense)              (None, 128)               1638528   \n",
            "_________________________________________________________________\n",
            "dropout_1 (Dropout)          (None, 128)               0         \n",
            "_________________________________________________________________\n",
            "dense_2 (Dense)              (None, 96)                12384     \n",
            "_________________________________________________________________\n",
            "dropout_2 (Dropout)          (None, 96)                0         \n",
            "_________________________________________________________________\n",
            "dense_3 (Dense)              (None, 5)                 485       \n",
            "=================================================================\n",
            "Total params: 1,746,181\n",
            "Trainable params: 1,746,181\n",
            "Non-trainable params: 0\n",
            "_________________________________________________________________\n"
          ],
          "name": "stdout"
        }
      ]
    },
    {
      "cell_type": "code",
      "metadata": {
        "id": "lM7eQ8Vd2a5l",
        "colab_type": "code",
        "colab": {}
      },
      "source": [
        "model.compile(loss='categorical_crossentropy', optimizer=optimizers.SGD(learning_rate=0.01), metrics=['accuracy'])"
      ],
      "execution_count": 9,
      "outputs": []
    },
    {
      "cell_type": "code",
      "metadata": {
        "id": "_ALc36P2TqE7",
        "colab_type": "code",
        "colab": {}
      },
      "source": [
        "def lr_scheduler(epoch, lr):\n",
        "    if epoch < 50:\n",
        "        lr = 0.1\n",
        "        return lr\n",
        "    elif epoch > 50 and epoch < 80:\n",
        "        lr=0.01\n",
        "        return lr\n",
        "    elif epoch > 80:\n",
        "        lr = 0.001\n",
        "        return lr\n",
        "    return lr"
      ],
      "execution_count": 10,
      "outputs": []
    },
    {
      "cell_type": "code",
      "metadata": {
        "id": "sXhfnT6E2q6n",
        "colab_type": "code",
        "colab": {
          "base_uri": "https://localhost:8080/",
          "height": 197
        },
        "outputId": "04dff95b-fe77-414d-b95a-485b88b38859"
      },
      "source": [
        "stopping = EarlyStopping(monitor='val_accuracy', patience=20)\n",
        "callbacks = [LearningRateScheduler(lr_scheduler, verbose=1)]\n",
        "history = model.fit_generator(train_generator,\\\n",
        "                              steps_per_epoch=100, \\\n",
        "                              epochs=200,\\\n",
        "                              #callbacks=callbacks,\\\n",
        "                              validation_data=test_generator,\\\n",
        "                              validation_steps=100) "
      ],
      "execution_count": null,
      "outputs": [
        {
          "output_type": "stream",
          "text": [
            "Epoch 1/200\n",
            "100/100 [==============================] - 846s 8s/step - loss: 1.6012 - accuracy: 0.2487 - val_loss: 1.6542 - val_accuracy: 0.0000e+00\n",
            "Epoch 2/200\n",
            "100/100 [==============================] - 198s 2s/step - loss: 1.5819 - accuracy: 0.2780 - val_loss: 1.6491 - val_accuracy: 0.0541\n",
            "Epoch 3/200\n",
            "100/100 [==============================] - 199s 2s/step - loss: 1.5456 - accuracy: 0.3123 - val_loss: 1.5726 - val_accuracy: 0.1025\n",
            "Epoch 4/200\n",
            "100/100 [==============================] - 209s 2s/step - loss: 1.4608 - accuracy: 0.3624 - val_loss: 1.3801 - val_accuracy: 0.3119\n",
            "Epoch 5/200\n",
            " 82/100 [=======================>......] - ETA: 26s - loss: 1.3926 - accuracy: 0.3864"
          ],
          "name": "stdout"
        }
      ]
    },
    {
      "cell_type": "markdown",
      "metadata": {
        "id": "eSJl_zkfzG3J",
        "colab_type": "text"
      },
      "source": [
        "# Plottings for CNN"
      ]
    },
    {
      "cell_type": "code",
      "metadata": {
        "id": "fWMZi-mSEFL9",
        "colab_type": "code",
        "colab": {}
      },
      "source": [
        "pd.DataFrame(history.history).plot(figsize=(8,5))\n",
        "plt.grid(True)\n",
        "plt.gca().set_ylim(0,1)\n",
        "plt.show()"
      ],
      "execution_count": null,
      "outputs": []
    },
    {
      "cell_type": "code",
      "metadata": {
        "id": "HL1XpQnjFu2I",
        "colab_type": "code",
        "colab": {}
      },
      "source": [
        "# summarize history for accuracy\n",
        "plt.plot(history.history['accuracy'])\n",
        "plt.plot(history.history['val_accuracy'])\n",
        "plt.title('accuracy')\n",
        "plt.ylabel('accuracy')\n",
        "plt.xlabel('epoch')\n",
        "plt.legend(['train', 'test'], loc='upper left')\n",
        "plt.show()\n",
        "# summarize history for loss\n",
        "plt.plot(history.history['loss'])\n",
        "plt.plot(history.history['val_loss'])\n",
        "plt.title('loss')\n",
        "plt.ylabel('loss')\n",
        "plt.xlabel('epoch')\n",
        "plt.legend(['train', 'test'], loc='upper left')\n",
        "plt.show()"
      ],
      "execution_count": null,
      "outputs": []
    },
    {
      "cell_type": "code",
      "metadata": {
        "id": "vEGVwgBubCgF",
        "colab_type": "code",
        "colab": {}
      },
      "source": [
        "loss, acc = model.evaluate_generator(test_generator,steps=100)\n",
        "print('Test loss: %f' %loss)\n",
        "print('Test accuracy: %f' %acc)"
      ],
      "execution_count": null,
      "outputs": []
    },
    {
      "cell_type": "code",
      "metadata": {
        "id": "QoE_s5qFbHsk",
        "colab_type": "code",
        "colab": {}
      },
      "source": [
        "loss_train, acc_train = model.evaluate_generator(train_generator,steps=100)\n",
        "print('Train loss: %f' %loss_train)\n",
        "print('Train accuracy: %f' %acc_train)"
      ],
      "execution_count": null,
      "outputs": []
    },
    {
      "cell_type": "markdown",
      "metadata": {
        "id": "jkM3aXfhcYrw",
        "colab_type": "text"
      },
      "source": [
        "# Pretrained models "
      ]
    },
    {
      "cell_type": "code",
      "metadata": {
        "id": "bWZTsrBcchtJ",
        "colab_type": "code",
        "colab": {}
      },
      "source": [
        "pretrained_models = applications.ResNet101V2(weights='imagenet', include_top=False, input_shape=(100, 100, 3))"
      ],
      "execution_count": null,
      "outputs": []
    },
    {
      "cell_type": "code",
      "metadata": {
        "id": "Y5B5Y4k4dFVM",
        "colab_type": "code",
        "colab": {}
      },
      "source": [
        "pretrained_models.summary()"
      ],
      "execution_count": null,
      "outputs": []
    },
    {
      "cell_type": "code",
      "metadata": {
        "id": "3LQRMOdkecTp",
        "colab_type": "code",
        "colab": {}
      },
      "source": [
        "x = pretained_models.output\n",
        "x = Flatten()(x)\n",
        "x = BatchNormalization(axis=-1)(x)\n",
        "x = Dropout(rate=0.4)(x)\n",
        "x = Dense(100, activation=\"relu\")(x)\n",
        "x = BatchNormalization(axis=-1)(x)\n",
        "x = Dropout(rate=0.4)(x)\n",
        "x = Dense(40, activation=\"relu\")(x)\n",
        "x = BatchNormalization(axis=-1)(x)\n",
        "predictions = Dense(units=5, activation=\"softmax\")(x)\n",
        "\n",
        "model_final = Model(inputs = pretained_models.input, outputs = predictions)"
      ],
      "execution_count": null,
      "outputs": []
    },
    {
      "cell_type": "code",
      "metadata": {
        "id": "ZMtP0q8dnpxi",
        "colab_type": "code",
        "colab": {}
      },
      "source": [
        "model_final.compile(loss = \"categorical_crossentropy\", optimizer = optimizers.SGD(learning_rate=0.001, nesterov=True), metrics=[\"accuracy\"])"
      ],
      "execution_count": null,
      "outputs": []
    },
    {
      "cell_type": "code",
      "metadata": {
        "id": "JyrNFZcBfFv4",
        "colab_type": "code",
        "colab": {}
      },
      "source": [
        "model_final.summary()"
      ],
      "execution_count": null,
      "outputs": []
    },
    {
      "cell_type": "code",
      "metadata": {
        "id": "avxYT7a7f031",
        "colab_type": "code",
        "colab": {}
      },
      "source": [
        "stopping = callbacks.EarlyStopping(monitor='val_accuracy', patience=20)\n",
        "callbacks = [LearningRateScheduler(lr_scheduler, verbose=1)]\n",
        "history_pretained = model_final.fit_generator(\n",
        "                                  train_generator,\\\n",
        "                                  steps_per_epoch=train_generator.n//train_generator.batch_size,\\\n",
        "                                  epochs=200,\\\n",
        "                                  callbacks=callbacks,\\\n",
        "                                  validation_data=test_generator,\\\n",
        "                                  validation_steps=test_generator.n//test_generator.batch_size\n",
        "                                  )"
      ],
      "execution_count": null,
      "outputs": []
    },
    {
      "cell_type": "code",
      "metadata": {
        "id": "T3EZTWtvAKBY",
        "colab_type": "code",
        "colab": {}
      },
      "source": [
        "loss_pretrained, acc_pretrained = model_final.evaluate_generator(test_generator,steps=54)\n",
        "print('Test loss: %f' %loss_pretrained)\n",
        "print('Test accuracy: %f' %acc_pretrained)\n",
        "\n",
        "loss_pretrained_train, acc_pretrained_train = model_final.evaluate_generator(train_generator,steps=54)\n",
        "print('Train loss: %f' %loss_pretrained_train)\n",
        "print('Train accuracy: %f' %acc_pretrained)"
      ],
      "execution_count": null,
      "outputs": []
    },
    {
      "cell_type": "code",
      "metadata": {
        "id": "h6NJl8gvZWKM",
        "colab_type": "code",
        "colab": {}
      },
      "source": [
        "# summarize history for accuracy\n",
        "plt.plot(history_pretained.history['accuracy'])\n",
        "plt.plot(history_pretained.history['val_accuracy'])\n",
        "plt.title('accuracy')\n",
        "plt.ylabel('accuracy')\n",
        "plt.xlabel('epoch')\n",
        "plt.legend(['train', 'test'], loc='upper left')\n",
        "plt.show()\n",
        "# summarize history for loss\n",
        "plt.plot(history_pretained.history['loss'])\n",
        "plt.plot(history_pretained.history['val_loss'])\n",
        "plt.title('loss')\n",
        "plt.ylabel('loss')\n",
        "plt.xlabel('epoch')\n",
        "plt.legend(['train', 'test'], loc='upper left')\n",
        "plt.show()"
      ],
      "execution_count": null,
      "outputs": []
    }
  ]
}